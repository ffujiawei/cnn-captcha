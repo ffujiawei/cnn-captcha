{
 "cells": [
  {
   "cell_type": "markdown",
   "metadata": {},
   "source": [
    "## 一、验证码图片处理"
   ]
  },
  {
   "cell_type": "code",
   "execution_count": 1,
   "metadata": {},
   "outputs": [],
   "source": [
    "from PIL import Image"
   ]
  },
  {
   "cell_type": "code",
   "execution_count": 2,
   "metadata": {},
   "outputs": [],
   "source": [
    "# 处理像素\n",
    "def regularized(img):\n",
    "    width, height = img.size\n",
    "    for h in range(height):\n",
    "        for w in range(width):\n",
    "            pixel = img.getpixel((w, h))\n",
    "            if 42 <= pixel <= 43:\n",
    "                pixel = 0\n",
    "            else:\n",
    "                pixel = 255\n",
    "            img.putpixel((w, h), pixel)\n",
    "    return img"
   ]
  },
  {
   "cell_type": "code",
   "execution_count": 3,
   "metadata": {},
   "outputs": [],
   "source": [
    "# 切割图像\n",
    "def cut(img):\n",
    "    width, height = img.size\n",
    "    new = img.crop((4, 1, width - 20, height - 5))\n",
    "    w, h = new.size\n",
    "    l = w // 4\n",
    "    return [new.crop((i * l, 0, (i + 1) * l, h)) for i in range(4)]"
   ]
  },
  {
   "cell_type": "code",
   "execution_count": 4,
   "metadata": {},
   "outputs": [],
   "source": [
    "# 扫描获取像素点\n",
    "def scan(img):\n",
    "    temp = []\n",
    "    width, height = img.size\n",
    "    for h in range(height):\n",
    "        for w in range(width):\n",
    "            pixel = img.getpixel((w, h))\n",
    "            temp.append(pixel)\n",
    "    return temp"
   ]
  },
  {
   "cell_type": "markdown",
   "metadata": {},
   "source": [
    "## 二、卷积神经网络建模"
   ]
  },
  {
   "cell_type": "code",
   "execution_count": 5,
   "metadata": {},
   "outputs": [],
   "source": [
    "import pandas as pd\n",
    "\n",
    "import tensorflow as tf\n",
    "from tensorflow.keras import layers, optimizers, Sequential, utils\n",
    "\n",
    "import matplotlib.pyplot as plt\n",
    "import seaborn as sns"
   ]
  },
  {
   "cell_type": "code",
   "execution_count": 6,
   "metadata": {},
   "outputs": [],
   "source": [
    "data = pd.read_csv(\"captcha/learn2.csv\", header=None)"
   ]
  },
  {
   "cell_type": "code",
   "execution_count": 7,
   "metadata": {},
   "outputs": [
    {
     "data": {
      "text/html": [
       "<div>\n",
       "<style scoped>\n",
       "    .dataframe tbody tr th:only-of-type {\n",
       "        vertical-align: middle;\n",
       "    }\n",
       "\n",
       "    .dataframe tbody tr th {\n",
       "        vertical-align: top;\n",
       "    }\n",
       "\n",
       "    .dataframe thead th {\n",
       "        text-align: right;\n",
       "    }\n",
       "</style>\n",
       "<table border=\"1\" class=\"dataframe\">\n",
       "  <thead>\n",
       "    <tr style=\"text-align: right;\">\n",
       "      <th></th>\n",
       "      <th>0</th>\n",
       "      <th>1</th>\n",
       "      <th>2</th>\n",
       "      <th>3</th>\n",
       "      <th>4</th>\n",
       "      <th>5</th>\n",
       "      <th>6</th>\n",
       "      <th>7</th>\n",
       "      <th>8</th>\n",
       "      <th>9</th>\n",
       "      <th>...</th>\n",
       "      <th>243</th>\n",
       "      <th>244</th>\n",
       "      <th>245</th>\n",
       "      <th>246</th>\n",
       "      <th>247</th>\n",
       "      <th>248</th>\n",
       "      <th>249</th>\n",
       "      <th>250</th>\n",
       "      <th>251</th>\n",
       "      <th>252</th>\n",
       "    </tr>\n",
       "  </thead>\n",
       "  <tbody>\n",
       "    <tr>\n",
       "      <th>0</th>\n",
       "      <td>255</td>\n",
       "      <td>255</td>\n",
       "      <td>255</td>\n",
       "      <td>255</td>\n",
       "      <td>255</td>\n",
       "      <td>255</td>\n",
       "      <td>255</td>\n",
       "      <td>255</td>\n",
       "      <td>255</td>\n",
       "      <td>255</td>\n",
       "      <td>...</td>\n",
       "      <td>255</td>\n",
       "      <td>255</td>\n",
       "      <td>255</td>\n",
       "      <td>255</td>\n",
       "      <td>255</td>\n",
       "      <td>255</td>\n",
       "      <td>255</td>\n",
       "      <td>255</td>\n",
       "      <td>255</td>\n",
       "      <td>27</td>\n",
       "    </tr>\n",
       "    <tr>\n",
       "      <th>1</th>\n",
       "      <td>255</td>\n",
       "      <td>255</td>\n",
       "      <td>255</td>\n",
       "      <td>255</td>\n",
       "      <td>255</td>\n",
       "      <td>255</td>\n",
       "      <td>255</td>\n",
       "      <td>255</td>\n",
       "      <td>255</td>\n",
       "      <td>255</td>\n",
       "      <td>...</td>\n",
       "      <td>255</td>\n",
       "      <td>255</td>\n",
       "      <td>255</td>\n",
       "      <td>255</td>\n",
       "      <td>255</td>\n",
       "      <td>255</td>\n",
       "      <td>255</td>\n",
       "      <td>255</td>\n",
       "      <td>255</td>\n",
       "      <td>17</td>\n",
       "    </tr>\n",
       "    <tr>\n",
       "      <th>2</th>\n",
       "      <td>255</td>\n",
       "      <td>255</td>\n",
       "      <td>255</td>\n",
       "      <td>255</td>\n",
       "      <td>255</td>\n",
       "      <td>255</td>\n",
       "      <td>255</td>\n",
       "      <td>255</td>\n",
       "      <td>255</td>\n",
       "      <td>255</td>\n",
       "      <td>...</td>\n",
       "      <td>255</td>\n",
       "      <td>255</td>\n",
       "      <td>255</td>\n",
       "      <td>255</td>\n",
       "      <td>255</td>\n",
       "      <td>255</td>\n",
       "      <td>255</td>\n",
       "      <td>255</td>\n",
       "      <td>255</td>\n",
       "      <td>0</td>\n",
       "    </tr>\n",
       "    <tr>\n",
       "      <th>3</th>\n",
       "      <td>255</td>\n",
       "      <td>255</td>\n",
       "      <td>255</td>\n",
       "      <td>255</td>\n",
       "      <td>255</td>\n",
       "      <td>255</td>\n",
       "      <td>255</td>\n",
       "      <td>255</td>\n",
       "      <td>255</td>\n",
       "      <td>255</td>\n",
       "      <td>...</td>\n",
       "      <td>255</td>\n",
       "      <td>255</td>\n",
       "      <td>255</td>\n",
       "      <td>255</td>\n",
       "      <td>255</td>\n",
       "      <td>255</td>\n",
       "      <td>255</td>\n",
       "      <td>255</td>\n",
       "      <td>255</td>\n",
       "      <td>19</td>\n",
       "    </tr>\n",
       "    <tr>\n",
       "      <th>4</th>\n",
       "      <td>255</td>\n",
       "      <td>255</td>\n",
       "      <td>255</td>\n",
       "      <td>255</td>\n",
       "      <td>255</td>\n",
       "      <td>255</td>\n",
       "      <td>255</td>\n",
       "      <td>255</td>\n",
       "      <td>255</td>\n",
       "      <td>255</td>\n",
       "      <td>...</td>\n",
       "      <td>255</td>\n",
       "      <td>255</td>\n",
       "      <td>255</td>\n",
       "      <td>255</td>\n",
       "      <td>255</td>\n",
       "      <td>255</td>\n",
       "      <td>255</td>\n",
       "      <td>255</td>\n",
       "      <td>255</td>\n",
       "      <td>18</td>\n",
       "    </tr>\n",
       "  </tbody>\n",
       "</table>\n",
       "<p>5 rows × 253 columns</p>\n",
       "</div>"
      ],
      "text/plain": [
       "   0    1    2    3    4    5    6    7    8    9    ...  243  244  245  246  \\\n",
       "0  255  255  255  255  255  255  255  255  255  255  ...  255  255  255  255   \n",
       "1  255  255  255  255  255  255  255  255  255  255  ...  255  255  255  255   \n",
       "2  255  255  255  255  255  255  255  255  255  255  ...  255  255  255  255   \n",
       "3  255  255  255  255  255  255  255  255  255  255  ...  255  255  255  255   \n",
       "4  255  255  255  255  255  255  255  255  255  255  ...  255  255  255  255   \n",
       "\n",
       "   247  248  249  250  251  252  \n",
       "0  255  255  255  255  255   27  \n",
       "1  255  255  255  255  255   17  \n",
       "2  255  255  255  255  255    0  \n",
       "3  255  255  255  255  255   19  \n",
       "4  255  255  255  255  255   18  \n",
       "\n",
       "[5 rows x 253 columns]"
      ]
     },
     "execution_count": 7,
     "metadata": {},
     "output_type": "execute_result"
    }
   ],
   "source": [
    "data.head()"
   ]
  },
  {
   "cell_type": "code",
   "execution_count": 8,
   "metadata": {},
   "outputs": [
    {
     "data": {
      "text/plain": [
       "(1200, 253)"
      ]
     },
     "execution_count": 8,
     "metadata": {},
     "output_type": "execute_result"
    }
   ],
   "source": [
    "data.shape"
   ]
  },
  {
   "cell_type": "code",
   "execution_count": 9,
   "metadata": {},
   "outputs": [],
   "source": [
    "X_train = data.iloc[:, :-1]\n",
    "Y_train = data.iloc[:, -1]"
   ]
  },
  {
   "cell_type": "code",
   "execution_count": 10,
   "metadata": {},
   "outputs": [],
   "source": [
    "conv = lambda x: chr(x + 48 if 0 <= x <= 9 else x + 87)"
   ]
  },
  {
   "cell_type": "code",
   "execution_count": 11,
   "metadata": {},
   "outputs": [],
   "source": [
    "Y_label = Y_train.sort_values().apply(conv)"
   ]
  },
  {
   "cell_type": "code",
   "execution_count": 12,
   "metadata": {},
   "outputs": [],
   "source": [
    "X_train = X_train / 255.0"
   ]
  },
  {
   "cell_type": "code",
   "execution_count": 13,
   "metadata": {},
   "outputs": [],
   "source": [
    "X_train = X_train.values.reshape(-1,21,12,1)"
   ]
  },
  {
   "cell_type": "code",
   "execution_count": 14,
   "metadata": {},
   "outputs": [],
   "source": [
    "Y_train = utils.to_categorical(Y_train)"
   ]
  },
  {
   "cell_type": "code",
   "execution_count": 15,
   "metadata": {},
   "outputs": [
    {
     "data": {
      "image/png": "[encoded data removed]",
      "text/plain": [
       "<Figure size 1152x648 with 1 Axes>"
      ]
     },
     "metadata": {
      "needs_background": "light"
     },
     "output_type": "display_data"
    }
   ],
   "source": [
    "plt.subplots(figsize=(16,9))\n",
    "sns.countplot(Y_label)\n",
    "plt.xlabel('Character', fontsize=16)\n",
    "plt.ylabel('Count', fontsize=16)\n",
    "plt.show()"
   ]
  },
  {
   "cell_type": "code",
   "execution_count": 16,
   "metadata": {},
   "outputs": [],
   "source": [
    "# 缺少字符9，o和z，可能与g，0和2难以区分有关"
   ]
  },
  {
   "cell_type": "code",
   "execution_count": 17,
   "metadata": {},
   "outputs": [
    {
     "data": {
      "image/png": "[encoded data removed]",
      "text/plain": [
       "<Figure size 432x288 with 1 Axes>"
      ]
     },
     "metadata": {},
     "output_type": "display_data"
    }
   ],
   "source": [
    "ax = plt.gca()\n",
    "plt.imshow(X_train[9,...,0])\n",
    "# plt.axis('off')\n",
    "# 去白\n",
    "plt.gca().xaxis.set_major_locator(plt.NullLocator()) \n",
    "plt.gca().yaxis.set_major_locator(plt.NullLocator()) \n",
    "plt.subplots_adjust(top=1,bottom=0,left=0,right=1,hspace=0,wspace=0) \n",
    "plt.show()"
   ]
  },
  {
   "cell_type": "code",
   "execution_count": 18,
   "metadata": {},
   "outputs": [],
   "source": [
    "model = Sequential((\n",
    "    layers.Conv2D(32, kernel_size=(5, 5), padding=\"same\", activation='relu', input_shape=(21, 12, 1)),\n",
    "    layers.Conv2D(32, kernel_size=(5, 5), padding=\"same\", activation='relu'),\n",
    "    layers.MaxPool2D(pool_size=(2, 2)),\n",
    "    layers.Dropout(0.25),\n",
    "    \n",
    "    layers.Conv2D(64, kernel_size=(3, 3), padding=\"same\", activation='relu'),\n",
    "    layers.Conv2D(64, kernel_size=(3, 3), padding=\"same\", activation='relu'),\n",
    "    layers.MaxPool2D(pool_size=(2, 2), strides=(2,2)),\n",
    "    layers.Dropout(0.25),\n",
    "    \n",
    "    layers.Flatten(),\n",
    "    layers.Dense(256, activation='relu'),\n",
    "    layers.Dropout(0.25),\n",
    "    layers.Dense(35, activation='softmax'),\n",
    "))"
   ]
  },
  {
   "cell_type": "code",
   "execution_count": 19,
   "metadata": {},
   "outputs": [],
   "source": [
    "optimizer = optimizers.RMSprop(lr=1e-3)"
   ]
  },
  {
   "cell_type": "code",
   "execution_count": 20,
   "metadata": {},
   "outputs": [],
   "source": [
    "model.compile(optimizer=optimizer, loss=\"categorical_crossentropy\", metrics=['accuracy'])"
   ]
  },
  {
   "cell_type": "code",
   "execution_count": 26,
   "metadata": {},
   "outputs": [
    {
     "name": "stdout",
     "output_type": "stream",
     "text": [
      "Train on 1200 samples\n",
      "Epoch 1/30\n",
      "1200/1200 [==============================] - 1s 525us/sample - loss: 0.0063 - accuracy: 0.9992\n",
      "Epoch 2/30\n",
      "1200/1200 [==============================] - 0s 277us/sample - loss: 0.0089 - accuracy: 0.9958\n",
      "Epoch 3/30\n",
      "1200/1200 [==============================] - 0s 256us/sample - loss: 0.0022 - accuracy: 0.9983\n",
      "Epoch 4/30\n",
      "1200/1200 [==============================] - 0s 264us/sample - loss: 0.0039 - accuracy: 0.9983\n",
      "Epoch 5/30\n",
      "1200/1200 [==============================] - 0s 264us/sample - loss: 0.0124 - accuracy: 0.9975\n",
      "Epoch 6/30\n",
      "1200/1200 [==============================] - 0s 272us/sample - loss: 0.0012 - accuracy: 0.9992\n",
      "Epoch 7/30\n",
      "1200/1200 [==============================] - 0s 274us/sample - loss: 0.0103 - accuracy: 0.9975\n",
      "Epoch 8/30\n",
      "1200/1200 [==============================] - 0s 269us/sample - loss: 0.0102 - accuracy: 0.9992\n",
      "Epoch 9/30\n",
      "1200/1200 [==============================] - 0s 274us/sample - loss: 0.0270 - accuracy: 0.9942\n",
      "Epoch 10/30\n",
      "1200/1200 [==============================] - 0s 296us/sample - loss: 0.0202 - accuracy: 0.9950\n",
      "Epoch 11/30\n",
      "1200/1200 [==============================] - 0s 268us/sample - loss: 0.0127 - accuracy: 0.9958\n",
      "Epoch 12/30\n",
      "1200/1200 [==============================] - 0s 273us/sample - loss: 1.3512e-04 - accuracy: 1.0000\n",
      "Epoch 13/30\n",
      "1200/1200 [==============================] - 0s 275us/sample - loss: 0.0076 - accuracy: 0.9975\n",
      "Epoch 14/30\n",
      "1200/1200 [==============================] - 0s 270us/sample - loss: 0.0171 - accuracy: 0.9942\n",
      "Epoch 15/30\n",
      "1200/1200 [==============================] - 0s 269us/sample - loss: 0.0015 - accuracy: 0.9992\n",
      "Epoch 16/30\n",
      "1200/1200 [==============================] - 0s 269us/sample - loss: 6.6047e-05 - accuracy: 1.0000\n",
      "Epoch 17/30\n",
      "1200/1200 [==============================] - 0s 260us/sample - loss: 0.0139 - accuracy: 0.9975\n",
      "Epoch 18/30\n",
      "1200/1200 [==============================] - 0s 258us/sample - loss: 0.0032 - accuracy: 0.9975\n",
      "Epoch 19/30\n",
      "1200/1200 [==============================] - 0s 268us/sample - loss: 0.0014 - accuracy: 0.9992\n",
      "Epoch 20/30\n",
      "1200/1200 [==============================] - 0s 255us/sample - loss: 0.0244 - accuracy: 0.9950\n",
      "Epoch 21/30\n",
      "1200/1200 [==============================] - 0s 265us/sample - loss: 0.0303 - accuracy: 0.9942\n",
      "Epoch 22/30\n",
      "1200/1200 [==============================] - 0s 279us/sample - loss: 0.0113 - accuracy: 0.9967\n",
      "Epoch 23/30\n",
      "1200/1200 [==============================] - 0s 272us/sample - loss: 0.0380 - accuracy: 0.9942\n",
      "Epoch 24/30\n",
      "1200/1200 [==============================] - 0s 269us/sample - loss: 0.0219 - accuracy: 0.9942\n",
      "Epoch 25/30\n",
      "1200/1200 [==============================] - 0s 270us/sample - loss: 0.0114 - accuracy: 0.9975\n",
      "Epoch 26/30\n",
      "1200/1200 [==============================] - 0s 276us/sample - loss: 0.0137 - accuracy: 0.9975\n",
      "Epoch 27/30\n",
      "1200/1200 [==============================] - 0s 274us/sample - loss: 0.0150 - accuracy: 0.9967\n",
      "Epoch 28/30\n",
      "1200/1200 [==============================] - 0s 277us/sample - loss: 0.0189 - accuracy: 0.9983\n",
      "Epoch 29/30\n",
      "1200/1200 [==============================] - 0s 259us/sample - loss: 0.0142 - accuracy: 0.9975\n",
      "Epoch 30/30\n",
      "1200/1200 [==============================] - 0s 263us/sample - loss: 0.0045 - accuracy: 0.9983\n"
     ]
    }
   ],
   "source": [
    "epochs = 30\n",
    "cap = model.fit(X_train, Y_train, epochs=epochs, batch_size=30)"
   ]
  },
  {
   "cell_type": "code",
   "execution_count": 27,
   "metadata": {},
   "outputs": [],
   "source": [
    "n = pd.Series(list(map(conv, model.predict_classes(X_train))))\n",
    "m = pd.Series(list(map(conv, data.iloc[:, -1])))"
   ]
  },
  {
   "cell_type": "code",
   "execution_count": 28,
   "metadata": {},
   "outputs": [
    {
     "data": {
      "text/plain": [
       "<tf.Tensor: id=28351, shape=(0, 1), dtype=int64, numpy=array([], shape=(0, 1), dtype=int64)>"
      ]
     },
     "execution_count": 28,
     "metadata": {},
     "output_type": "execute_result"
    }
   ],
   "source": [
    "tf.where((n == m)==False)"
   ]
  },
  {
   "cell_type": "code",
   "execution_count": 29,
   "metadata": {},
   "outputs": [
    {
     "data": {
      "text/plain": [
       "True"
      ]
     },
     "execution_count": 29,
     "metadata": {},
     "output_type": "execute_result"
    }
   ],
   "source": [
    "(n==m).all()"
   ]
  },
  {
   "cell_type": "code",
   "execution_count": 30,
   "metadata": {},
   "outputs": [],
   "source": [
    "# 说明识别完全正确"
   ]
  },
  {
   "cell_type": "code",
   "execution_count": 35,
   "metadata": {},
   "outputs": [],
   "source": [
    "# 保存模型\n",
    "# model.save('model')"
   ]
  },
  {
   "cell_type": "markdown",
   "metadata": {},
   "source": [
    "## 三、预测新验证码"
   ]
  },
  {
   "cell_type": "code",
   "execution_count": 36,
   "metadata": {},
   "outputs": [],
   "source": [
    "from PIL import Image"
   ]
  },
  {
   "cell_type": "code",
   "execution_count": 39,
   "metadata": {},
   "outputs": [],
   "source": [
    "captcha = 'captcha/unknown/0.png'\n",
    "imgs = cut(regularized(Image.open(captcha)))\n",
    "data = [scan(img) for img in imgs]"
   ]
  },
  {
   "cell_type": "code",
   "execution_count": 41,
   "metadata": {},
   "outputs": [],
   "source": [
    "x = pd.DataFrame(data) / 255.0\n",
    "x = x.values.reshape(-1,21,12,1)"
   ]
  },
  {
   "cell_type": "code",
   "execution_count": 42,
   "metadata": {},
   "outputs": [
    {
     "data": {
      "image/png": "[encoded data removed]",
      "text/plain": [
       "<Figure size 432x288 with 1 Axes>"
      ]
     },
     "metadata": {},
     "output_type": "display_data"
    }
   ],
   "source": [
    "ax = plt.gca()\n",
    "plt.imshow(x[3,...,0])\n",
    "plt.gca().xaxis.set_major_locator(plt.NullLocator()) \n",
    "plt.gca().yaxis.set_major_locator(plt.NullLocator()) \n",
    "plt.subplots_adjust(top=1,bottom=0,left=0,right=1,hspace=0,wspace=0) \n",
    "plt.show()"
   ]
  },
  {
   "cell_type": "code",
   "execution_count": 45,
   "metadata": {},
   "outputs": [
    {
     "data": {
      "text/plain": [
       "['d', 'e', '5', 'l']"
      ]
     },
     "execution_count": 45,
     "metadata": {},
     "output_type": "execute_result"
    }
   ],
   "source": [
    "# 输出预测值\n",
    "list(map(conv, model.predict_classes(x)))"
   ]
  },
  {
   "cell_type": "markdown",
   "metadata": {},
   "source": [
    "### 批量预测"
   ]
  },
  {
   "cell_type": "code",
   "execution_count": 46,
   "metadata": {},
   "outputs": [],
   "source": [
    "X = pd.read_csv(\"captcha/learn3.csv\", header=None)\n",
    "X = pd.DataFrame(X) / 255.0\n",
    "X = X.values.reshape(-1,21,12,1)"
   ]
  },
  {
   "cell_type": "code",
   "execution_count": 48,
   "metadata": {},
   "outputs": [],
   "source": [
    "import numpy as np"
   ]
  },
  {
   "cell_type": "code",
   "execution_count": 51,
   "metadata": {},
   "outputs": [],
   "source": [
    "# 输出预测值\n",
    "lst = list(map(conv, model.predict_classes(X)))"
   ]
  },
  {
   "cell_type": "code",
   "execution_count": 60,
   "metadata": {},
   "outputs": [],
   "source": [
    "res = np.array(lst).reshape(-1, 4).tolist()"
   ]
  },
  {
   "cell_type": "code",
   "execution_count": 61,
   "metadata": {},
   "outputs": [
    {
     "data": {
      "text/plain": [
       "[['d', 'e', '5', 'l'],\n",
       " ['n', '2', 'i', 'b'],\n",
       " ['e', 'x', '1', 'x'],\n",
       " ['0', '8', '2', 's'],\n",
       " ['0', '8', '2', 's']]"
      ]
     },
     "execution_count": 61,
     "metadata": {},
     "output_type": "execute_result"
    }
   ],
   "source": [
    "res[:5]"
   ]
  },
  {
   "cell_type": "code",
   "execution_count": 69,
   "metadata": {},
   "outputs": [],
   "source": [
    "with open(\"captcha/labels\", \"w\") as fp:\n",
    "    for i in res:\n",
    "        fp.write(''.join(i) + '\\n')"
   ]
  },
  {
   "cell_type": "code",
   "execution_count": null,
   "metadata": {},
   "outputs": [],
   "source": []
  }
 ],
 "metadata": {
  "kernelspec": {
   "display_name": "Python 3",
   "language": "python",
   "name": "python3"
  },
  "language_info": {
   "codemirror_mode": {
    "name": "ipython",
    "version": 3
   },
   "file_extension": ".py",
   "mimetype": "text/x-python",
   "name": "python",
   "nbconvert_exporter": "python",
   "pygments_lexer": "ipython3",
   "version": "3.7.3"
  }
 },
 "nbformat": 4,
 "nbformat_minor": 2
}
